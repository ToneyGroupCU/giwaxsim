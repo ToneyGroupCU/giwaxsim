{
 "cells": [
  {
   "cell_type": "markdown",
   "id": "f199c5d8-9ad6-4416-87dd-6ec0d8ab4a17",
   "metadata": {},
   "source": [
    "# import packages"
   ]
  },
  {
   "cell_type": "code",
   "execution_count": null,
   "id": "67602eed-eff9-442d-b8c4-faaaaa502936",
   "metadata": {},
   "outputs": [],
   "source": [
    "import numpy as np\n",
    "import matplotlib\n",
    "from scipy.spatial import ConvexHull\n",
    "import matplotlib.pyplot as plt\n",
    "from matplotlib import ticker\n",
    "from matplotlib.pyplot import subplots\n",
    "from scipy.signal import convolve\n",
    "from mpl_toolkits.mplot3d import Axes3D\n",
    "from numpy.fft import fftn, fftshift\n",
    "import glob\n",
    "from tqdm.auto import tqdm\n",
    "from multiprocess import Pool\n",
    "import fabio\n",
    "import os\n",
    "%matplotlib widget"
   ]
  },
  {
   "cell_type": "markdown",
   "id": "cab41405-c6a7-4543-ab30-dc1a054f33a8",
   "metadata": {},
   "source": [
    "# import local files"
   ]
  },
  {
   "cell_type": "code",
   "execution_count": null,
   "id": "4e74b8a6-e1b4-4444-a344-07c96902d42a",
   "metadata": {},
   "outputs": [],
   "source": [
    "from ptable_dict import ptable, atomic_masses, inverse_ptable, aff_dict\n",
    "from utilities import write_xyz, load_xyz, rotation_matrix, gaussian_kernel\n",
    "from meshgrids import generate_density_grid, convert_grid_qspace, plot_3D_grid, downselect_meshgrid, multiply_ft_gaussian\n",
    "from detector import make_detector, rotate_about_normal, rotate_about_horizontal, rotate_about_vertical\n",
    "from detector import intersect_detector, rotate_psi_phi_theta, mirror_vertical_horizontal, generate_detector_ints\n",
    "from giwaxs_comparison import mask_forbidden_pixels, mirror_qmap_positive_qxy_only, normalize_qmap, rebin_and_combine_qmaps\n",
    "from giwaxs_comparison import add_f0_q_dependence"
   ]
  },
  {
   "cell_type": "markdown",
   "id": "dd801e01-e1e4-4e08-b8ab-6e4690ead83d",
   "metadata": {},
   "source": [
    "# Generate and plot real-space voxel map for xyz file"
   ]
  },
  {
   "cell_type": "code",
   "execution_count": null,
   "id": "48bbd3d0-bcf2-4905-a9b9-98160f05ab60",
   "metadata": {},
   "outputs": [],
   "source": [
    "%%time\n",
    "dirr = os.getcwd()\n",
    "xyz_path = f'{dirr}/test_xyz_files/graphite_medium.xyz'\n",
    "buffer = 1\n",
    "voxel_size = 0.25\n",
    "dens_grid, x_axis, y_axis, z_axis = generate_density_grid(xyz_path, buffer, voxel_size, min_ax_size=256)"
   ]
  },
  {
   "cell_type": "code",
   "execution_count": null,
   "id": "4368333c-b535-4cc6-baa2-254dfa33ba81",
   "metadata": {},
   "outputs": [],
   "source": [
    "fig, ax1 = plt.subplots()\n",
    "dens_grid_xy = np.sum(dens_grid, axis=2)\n",
    "dens_grid_xy[dens_grid_xy==0]=1e-5\n",
    "ax1.imshow(dens_grid_xy, norm=matplotlib.colors.LogNorm())"
   ]
  },
  {
   "cell_type": "code",
   "execution_count": null,
   "id": "64dc3df0-3138-40b2-a407-ca72c9f4fe99",
   "metadata": {},
   "outputs": [],
   "source": [
    "fig, ax1 = plt.subplots()\n",
    "dens_grid_xy = np.sum(dens_grid, axis=1)\n",
    "dens_grid_xy[dens_grid_xy==0]=1e-5\n",
    "ax1.imshow(dens_grid_xy, norm=matplotlib.colors.LogNorm())"
   ]
  },
  {
   "cell_type": "code",
   "execution_count": null,
   "id": "60ffcb00-7742-488b-9343-6f01148c4f08",
   "metadata": {},
   "outputs": [],
   "source": [
    "threshold = 99.9\n",
    "num_levels=10\n",
    "cmap = 'plasma'\n",
    "plot_3D_grid(dens_grid, x_axis, y_axis, z_axis, cmap, threshold, num_levels, log=True)"
   ]
  },
  {
   "cell_type": "markdown",
   "id": "373acd00-ab72-4311-b130-a80cbd81cdd6",
   "metadata": {},
   "source": [
    "# Generate and plot reciprocal space voxel map for xyz file"
   ]
  },
  {
   "cell_type": "code",
   "execution_count": null,
   "id": "7a185c5d-920f-4f04-b380-1d236d463b7d",
   "metadata": {
    "scrolled": true
   },
   "outputs": [],
   "source": [
    "%%time\n",
    "iq, qx, qy, qz = convert_grid_qspace(dens_grid, x_axis, y_axis, z_axis)"
   ]
  },
  {
   "cell_type": "code",
   "execution_count": null,
   "id": "8a30a247-eac4-4c47-9d2f-1a13634393f7",
   "metadata": {},
   "outputs": [],
   "source": [
    "# optional downselect iq meshgrid based on max q desired\n",
    "max_q = 6\n",
    "iq_small, qx_small, qy_small, qz_small = downselect_meshgrid(iq, qx, qy, qz, max_q)\n",
    "\n",
    "#optional free up memory\n",
    "del iq\n",
    "del dens_grid\n",
    "\n",
    "#reassign variables\n",
    "iq = iq_small\n",
    "qx = qx_small\n",
    "qy = qy_small\n",
    "qz = qz_small\n",
    "\n",
    "#apply debye waller real-space gaussian smearing\n",
    "sigma = 0.2\n",
    "iq = multiply_ft_gaussian(iq, qx, qy, qz, sigma)"
   ]
  },
  {
   "cell_type": "code",
   "execution_count": null,
   "id": "db8dd9e5-64ca-4494-9a79-e8c1811aaad3",
   "metadata": {},
   "outputs": [],
   "source": [
    "threshold = 99.9\n",
    "num_levels=20\n",
    "cmap = 'plasma'\n",
    "plot_3D_grid(iq, qx, qy, qz, cmap, threshold, num_levels)"
   ]
  },
  {
   "cell_type": "markdown",
   "id": "8e91453f-ad59-415d-9892-9e6e4db825d1",
   "metadata": {},
   "source": [
    "# find q-resolutions\n",
    "### The frequency resolution (qbin size) is given by sampling rate (1/voxel_size) over box size (size of molecule)"
   ]
  },
  {
   "cell_type": "code",
   "execution_count": null,
   "id": "74345a01-04d9-4c7e-9939-a8f23c4049dc",
   "metadata": {},
   "outputs": [],
   "source": [
    "x_vals = qx\n",
    "y_vals = qy\n",
    "z_vals = qz\n",
    "qx_res = x_vals[1]-x_vals[0]\n",
    "qy_res = y_vals[1]-y_vals[0]\n",
    "qz_res = z_vals[1]-z_vals[0]\n",
    "print(f'Resolutions are [qx={qx_res:.4f}, qy={qy_res:.4f}, qz={qz_res:.4f}]')"
   ]
  },
  {
   "cell_type": "markdown",
   "id": "4c52ab30-a74d-44c3-8201-64786de5fdc5",
   "metadata": {},
   "source": [
    "# Set up Detector"
   ]
  },
  {
   "cell_type": "code",
   "execution_count": null,
   "id": "ceaa3e2c-e025-4ed4-9cbe-b670e72fa5a9",
   "metadata": {},
   "outputs": [],
   "source": [
    "det_pixels = (200,200) #horizontal, vertical\n",
    "det_qs = (6,6) #horizontal, vertical (these are absolute maximums. detector centered at 0)\n",
    "det_x_grid, det_y_grid, det_z_grid, det_h, det_v = make_detector(det_qs[0], det_pixels[0], det_qs[1], det_pixels[1])\n",
    "\n",
    "psi = 0 #rotation in degrees of detector about detector normal axis\n",
    "det_x_grid, det_y_grid, det_z_grid = rotate_about_normal(det_x_grid, det_y_grid, det_z_grid, psi)\n",
    "phi = 0 #rotation in degrees of detector about detector vertical axis\n",
    "det_x_grid, det_y_grid, det_z_grid = rotate_about_vertical(det_x_grid, det_y_grid, det_z_grid, phi)\n",
    "theta = 0 #rotation in degrees of detector about detector horizontal axis\n",
    "det_x_grid, det_y_grid, det_z_grid = rotate_about_horizontal(det_x_grid, det_y_grid, det_z_grid, theta)"
   ]
  },
  {
   "cell_type": "markdown",
   "id": "7794554d-f1bb-4787-8fb3-f6151861426c",
   "metadata": {},
   "source": [
    "# plot single detector"
   ]
  },
  {
   "cell_type": "code",
   "execution_count": null,
   "id": "42cf26c9-fcbb-486a-9b7c-cc40fb707da0",
   "metadata": {},
   "outputs": [],
   "source": [
    "import matplotlib.ticker as ticker\n",
    "det_ints = intersect_detector(iq, qx, qy, qz, det_x_grid, det_y_grid, det_z_grid, det_h, det_v)\n",
    "\n",
    "# dirr = '/Users/Thomas2/Library/CloudStorage/OneDrive-UCB-O365/Desktop/Research_Stuff/OPV_GIWAXS/N2200_simulation/faceon_1500/'\n",
    "# det_ints = np.load(f'{dirr}det_sum.npy')\n",
    "# det_h = np.load(f'{dirr}det_h.npy')\n",
    "# det_v = np.load(f'{dirr}det_v.npy')\n",
    "\n",
    "# det_ints = mirror_vertical_horizontal(det_ints)\n",
    "\n",
    "# det_ints *=1e-6\n",
    "\n",
    "# plot\n",
    "fig, ax1 = subplots(figsize=(8,3.5))\n",
    "cax = ax1.imshow(det_ints,\n",
    "           norm=matplotlib.colors.Normalize(vmin=np.percentile(det_ints, 0.1), vmax=np.percentile(det_ints, 99.5)),\n",
    "           # norm=matplotlib.colors.LogNorm(vmin=np.percentile(det_ints, 40), vmax=np.percentile(det_ints, 99.9)),\n",
    "           extent=(np.min(det_h),np.max(det_h),np.min(det_v),np.max(det_v)),\n",
    "           cmap='turbo',\n",
    "           origin = 'lower')\n",
    "cbar = fig.colorbar(cax, ax=ax1)\n",
    "ax1.set_xlabel('$\\mathregular{q_{xy}}$ ($\\AA^{-1}$)',fontsize=16)\n",
    "ax1.set_ylabel('$\\mathregular{q_z}$ ($\\AA^{-1}$)',fontsize=16)\n",
    "ax1.yaxis.set_major_locator(ticker.MultipleLocator(0.5))\n",
    "ax1.xaxis.set_major_locator(ticker.MultipleLocator(0.5))\n",
    "plt.title('N2200 Form IV simulation Face-on')\n",
    "ax1.set_ylim(bottom=0)\n",
    "plt.tight_layout()"
   ]
  },
  {
   "cell_type": "markdown",
   "id": "75c099c7-8aa3-44f8-a73b-fa83514d333d",
   "metadata": {},
   "source": [
    "# Generate and sum multiple plots across selected angles"
   ]
  },
  {
   "cell_type": "code",
   "execution_count": null,
   "id": "7596deab-54ef-4a80-944b-181c608ee07c",
   "metadata": {},
   "outputs": [],
   "source": [
    "%%time\n",
    "dirr = os.getcwd()\n",
    "save_path = f'{dirr}/det_output_files/'\n",
    "if not os.path.exists(save_path):\n",
    "    os.mkdir(save_path)\n",
    "    \n",
    "#setup detector\n",
    "det_pixels = (200,200) #horizontal, vertical\n",
    "det_qs = (6,6) #horizontal, vertical \n",
    "#(these are absolute maximums. detector centered at 0)\n",
    "det_x, det_y, det_z, det_h, det_v = make_detector(det_qs[0], det_pixels[0], det_qs[1], det_pixels[1])\n",
    "np.save(f'{save_path}det_h.npy', det_h)\n",
    "np.save(f'{save_path}det_v.npy', det_v)\n",
    "\n",
    "#initial detector rotation to align detector. \n",
    "#Normal axis of detector should be axis for tilting texture of real-space.\n",
    "#Vertical axis of detector should be axis for fiber-like texture of real-space\n",
    "psi_init = 0 #rotation in degrees of detector about detector normal axis\n",
    "phi_init = 0 #rotation in degrees of detector about detector vertical axis\n",
    "det_x, det_y, det_z = rotate_about_normal(det_x, det_y, det_z, psi_init)\n",
    "det_x, det_y, det_z = rotate_about_vertical(det_x, det_y, det_z, phi_init)\n",
    "\n",
    "#set up rotations to capture disorder in your film. psi=tilting, phi=fiber texture\n",
    "#only need 1/4 of your total rotation space since symmetry allows us to mirror quadrants\n",
    "psis = np.linspace(0,1,num=1) #rotation in degrees of detector about detector normal axis\n",
    "phis = np.linspace(0,180,num=180)[:-1] #rotation in degrees of detector about detector vertical axis\n",
    "theta = 0 #rotation in degrees of detector about detector horizontal axis\n",
    "\n",
    "args = [(iq, qx, qy, qz, det_h, det_v, det_x, det_y, det_z, psi, phi, theta, save_path) for psi in psis for phi in phis]\n",
    "with Pool(processes=8) as pool:\n",
    "    filenames = pool.map(generate_detector_ints, args)"
   ]
  },
  {
   "cell_type": "code",
   "execution_count": null,
   "id": "ad9611ee-b9a6-41ef-9fa6-7d182efb01b4",
   "metadata": {},
   "outputs": [],
   "source": [
    "%%time\n",
    "# det_files = glob.glob(f'{save_path}det_ints_psi*_phi*.npy')\n",
    "det_files = filenames\n",
    "for i, det_file in enumerate(det_files):\n",
    "    det_img = np.load(det_file)\n",
    "    if i == 0:\n",
    "        det_sum = det_img\n",
    "    else:\n",
    "        det_sum += det_img\n",
    "#fold detector sum image to capture full disorder space\n",
    "det_sum = mirror_vertical_horizontal(det_sum)\n",
    "np.save(f'{save_path}det_sum.npy', det_sum)"
   ]
  },
  {
   "cell_type": "code",
   "execution_count": null,
   "id": "2ed2e6bb-f74e-4d87-ad97-42ede8130489",
   "metadata": {},
   "outputs": [],
   "source": [
    "%matplotlib widget\n",
    "fig, ax1 = subplots()\n",
    "cax = ax1.imshow(det_sum,\n",
    "           norm=matplotlib.colors.LogNorm(vmin=np.percentile(det_sum, 50), vmax=np.percentile(det_sum, 99.99)),\n",
    "           extent=(np.min(det_h),np.max(det_h),np.min(det_v),np.max(det_v)),\n",
    "           cmap='turbo',\n",
    "           origin = 'lower')\n",
    "ax1.set_xlabel('q horizontal')\n",
    "ax1.set_ylabel('q vertical')\n",
    "# ax1.set_xlim(left=0)\n",
    "ax1.set_ylim(bottom=0)\n",
    "cbar = fig.colorbar(cax, ax=ax1)"
   ]
  },
  {
   "cell_type": "markdown",
   "id": "8ca6240c-6661-45dd-a7db-b732ed703b39",
   "metadata": {},
   "source": [
    "# Visualize each individual detector across angles"
   ]
  },
  {
   "cell_type": "code",
   "execution_count": null,
   "id": "df97be38-02bd-4822-85f7-269bc9a18f57",
   "metadata": {},
   "outputs": [],
   "source": [
    "%matplotlib inline\n",
    "plt.close('all')\n",
    "### load from previous results\n",
    "dirr = os.getcwd()\n",
    "save_path = f'{dirr}/det_output_files/'\n",
    "det_h = np.load(f'{save_path}det_h.npy')\n",
    "det_v = np.load(f'{save_path}det_v.npy')\n",
    "det_paths = glob.glob(f'{save_path}det_psi*.npy')\n",
    "\n",
    "for i, det_path in enumerate(det_paths):\n",
    "    det_int = np.load(det_path)\n",
    "    fig, ax1 = subplots()\n",
    "    cax = ax1.imshow(det_int,\n",
    "           norm=matplotlib.colors.Normalize(vmin=np.percentile(det_int, 10), vmax=np.percentile(det_int, 99)),\n",
    "           extent=(np.min(det_h),np.max(det_h),np.min(det_v),np.max(det_v)),\n",
    "           cmap='turbo',\n",
    "           origin = 'lower')\n",
    "    ax1.set_xlabel('q horizontal')\n",
    "    ax1.set_ylabel('q vertical')\n",
    "    # ax1.set_xlim(0, 3)\n",
    "    # ax1.set_ylim(0, 3)\n",
    "    cbar = fig.colorbar(cax, ax=ax1)\n",
    "    ax1.set_title(f'Phi = {i*3} degrees')\n",
    "    plt.show()\n",
    "    plt.close('all')\n",
    "    "
   ]
  },
  {
   "cell_type": "code",
   "execution_count": null,
   "id": "63068846-60ba-419f-8070-658ed7949047",
   "metadata": {},
   "outputs": [],
   "source": [
    "dirr = os.getcwd()\n",
    "save_path = f'{dirr}/det_output_files/'\n",
    "det_int = np.load(f'{save_path}det_psi0_phi80.npy')\n",
    "det_h = np.load(f'{save_path}det_h.npy')\n",
    "det_v = np.load(f'{save_path}det_v.npy')\n",
    "\n",
    "fig, ax1 = subplots(1,1)\n",
    "cax = ax1.imshow(det_int,\n",
    "           norm=matplotlib.colors.Normalize(vmin=np.percentile(det_int, 10), vmax=np.percentile(det_int, 99)),\n",
    "           extent=(np.min(det_h),np.max(det_h),np.min(det_v),np.max(det_v)),\n",
    "           cmap='turbo',\n",
    "           origin = 'lower')\n",
    "ax1.set_xlabel('q horizontal')\n",
    "ax1.set_ylabel('q vertical')\n",
    "# ax1.set_xlim(left=0)\n",
    "# ax1.set_ylim(bottom=0)\n",
    "cbar = fig.colorbar(cax, ax=ax1)\n",
    "plt.tight_layout()"
   ]
  },
  {
   "cell_type": "markdown",
   "id": "b4ed7916-b91f-4d62-98a3-ccb759f14541",
   "metadata": {},
   "source": [
    "# Compare to experimental data"
   ]
  },
  {
   "cell_type": "code",
   "execution_count": null,
   "id": "0203137e-f145-4914-a723-82bf7a8bb876",
   "metadata": {},
   "outputs": [],
   "source": [
    "%matplotlib widget\n",
    "#path to background image and axes files from pyFAI output\n",
    "img_name = 'TC11'\n",
    "dirr = os.getcwd()\n",
    "exp_path = f'{dirr}/example_giwaxs/'\n",
    "img_path = f'{exp_path}{img_name}_th0.15_qmap.tif'\n",
    "qxy_path = f'{exp_path}{img_name}_th0.15_qxy.txt'\n",
    "qz_path = f'{exp_path}{img_name}_th0.15_qz.txt'\n",
    "\n",
    "exp_img = fabio.open(img_path).data\n",
    "exp_qxy = np.loadtxt(qxy_path)\n",
    "exp_qz = np.loadtxt(qz_path)\n",
    "\n",
    "exp_img, exp_qxy, exp_qz = mirror_qmap_positive_qxy_only(exp_img, exp_qxy, exp_qz)\n",
    "\n",
    "\n",
    "save_path = f'{dirr}/det_output_files/'\n",
    "det_h = np.load(f'{save_path}det_h.npy')\n",
    "det_v = np.load(f'{save_path}det_v.npy')\n",
    "det_sum = np.load(glob.glob(f'{save_path}det_sum.npy')[0])\n",
    "\n",
    "det_sum = mask_forbidden_pixels(det_sum, det_h, det_v, 0.15, 12700)\n",
    "qmap_compare = rebin_and_combine_qmaps(exp_img, exp_qxy, exp_qz, det_sum, det_h, det_v)\n",
    "\n",
    "fig,ax=plt.subplots(figsize=(10,5))\n",
    "cax = ax.imshow(qmap_compare,\n",
    "           norm=matplotlib.colors.Normalize(vmin=np.percentile(qmap_compare, 50), vmax=np.percentile(qmap_compare, 99.5)),\n",
    "           extent=(np.min(exp_qxy),np.max(exp_qxy),np.min(exp_qz),np.max(exp_qz)),\n",
    "           cmap='turbo',\n",
    "           origin = 'lower')\n",
    "ax.set_xlabel('$\\mathregular{q_{xy}}$ ($\\AA^{-1}$)',fontsize=16)\n",
    "ax.set_ylabel('$\\mathregular{q_z}$ ($\\AA^{-1}$)',fontsize=16)"
   ]
  },
  {
   "cell_type": "code",
   "execution_count": null,
   "id": "ef52fe5e-574b-48b9-a160-8c7e12124a3f",
   "metadata": {},
   "outputs": [],
   "source": [
    "import matplotlib.ticker as ticker\n",
    "# det_ints = intersect_detector(iq, qx, qy, qz, det_x_grid, det_y_grid, det_z_grid, det_h, det_v)\n",
    "\n",
    "dirr = '/Users/Thomas2/Library/CloudStorage/OneDrive-UCB-O365/Desktop/Research_Stuff/OPV_GIWAXS/N2200_simulation/faceon_form1a/'\n",
    "gen_name = 'form1a'\n",
    "det_ints = np.load(f'{dirr}{gen_name}_det_sum.npy')\n",
    "det_h = np.load(f'{dirr}{gen_name}det_h.npy')\n",
    "det_v = np.load(f'{dirr}{gen_name}det_v.npy')\n",
    "\n",
    "det_ints = mirror_vertical_horizontal(det_ints)\n",
    "det_ints = add_f0_q_dependence(det_ints, det_h, det_v, 'C')\n",
    "\n",
    "det_ints *=1e-13\n",
    "\n",
    "# plot\n",
    "fig, ax1 = subplots(figsize=(8,3.5))\n",
    "cax = ax1.imshow(det_ints,\n",
    "           norm=matplotlib.colors.Normalize(vmin=np.percentile(det_ints, 0.1), vmax=np.percentile(det_ints, 99.5)),\n",
    "           # norm=matplotlib.colors.LogNorm(vmin=np.percentile(det_ints, 40), vmax=np.percentile(det_ints, 99.9)),\n",
    "           extent=(np.min(det_h),np.max(det_h),np.min(det_v),np.max(det_v)),\n",
    "           cmap='turbo',\n",
    "           origin = 'lower')\n",
    "cbar = fig.colorbar(cax, ax=ax1)\n",
    "ax1.set_xlabel('$\\mathregular{q_{xy}}$ ($\\AA^{-1}$)',fontsize=16)\n",
    "ax1.set_ylabel('$\\mathregular{q_z}$ ($\\AA^{-1}$)',fontsize=16)\n",
    "ax1.yaxis.set_major_locator(ticker.MultipleLocator(0.5))\n",
    "ax1.xaxis.set_major_locator(ticker.MultipleLocator(0.5))\n",
    "plt.title('N2200 Form 1a simulation Face-on')\n",
    "ax1.set_ylim(bottom=0)\n",
    "plt.tight_layout()"
   ]
  },
  {
   "cell_type": "code",
   "execution_count": null,
   "id": "fb985d43-aa77-4c53-b9e0-d1859db3b5d4",
   "metadata": {},
   "outputs": [],
   "source": [
    "img_name = 'N2200_form1'\n",
    "exp_path = '/Users/Thomas2/Library/CloudStorage/OneDrive-UCB-O365/Desktop/Research_Stuff/OPV_GIWAXS/N2200_simulation/exp/N2200_form1/'\n",
    "img_path = f'{exp_path}{img_name}_qmap.tif'\n",
    "qxy_path = f'{exp_path}{img_name}_qxy.txt'\n",
    "qz_path = f'{exp_path}{img_name}_qz.txt'\n",
    "\n",
    "exp_img = fabio.open(img_path).data\n",
    "exp_qxy = np.loadtxt(qxy_path)\n",
    "exp_qz = np.loadtxt(qz_path)\n",
    "\n",
    "exp_img, exp_qxy, exp_qz = mirror_qmap_positive_qxy_only(exp_img, exp_qxy, exp_qz)\n",
    "\n",
    "dirr = '/Users/Thomas2/Library/CloudStorage/OneDrive-UCB-O365/Desktop/Research_Stuff/OPV_GIWAXS/N2200_simulation/faceon_form4/'\n",
    "gen_name = 'form4'\n",
    "form4_det_ints = np.load(f'{dirr}{gen_name}_det_sum.npy')\n",
    "det_h = np.load(f'{dirr}{gen_name}det_h.npy')\n",
    "det_v = np.load(f'{dirr}{gen_name}det_v.npy')\n",
    "form4_det_ints = mirror_vertical_horizontal(form4_det_ints)\n",
    "form4_det_ints = add_f0_q_dependence(form4_det_ints, det_h, det_v, 'C')\n",
    "\n",
    "dirr = '/Users/Thomas2/Library/CloudStorage/OneDrive-UCB-O365/Desktop/Research_Stuff/OPV_GIWAXS/N2200_simulation/faceon_form1a/'\n",
    "gen_name = 'form1a'\n",
    "form1a_det_ints = np.load(f'{dirr}{gen_name}_det_sum.npy')\n",
    "det_h = np.load(f'{dirr}{gen_name}det_h.npy')\n",
    "det_v = np.load(f'{dirr}{gen_name}det_v.npy')\n",
    "form1a_det_ints = mirror_vertical_horizontal(form1a_det_ints)\n",
    "form1a_det_ints = add_f0_q_dependence(form1a_det_ints, det_h, det_v, 'C')\n",
    "\n",
    "fract_1a = 1\n",
    "det_sum = fract_1a*form1a_det_ints + (1-fract_1a)*form4_det_ints\n",
    "# det_sum = det_ints\n",
    "\n",
    "det_sum *= 2\n",
    "det_sum = mask_forbidden_pixels(det_sum, det_h, det_v, 0.12, 12700)\n",
    "qmap_compare = rebin_and_combine_qmaps(exp_img, exp_qxy, exp_qz, det_sum, det_h, det_v, pos=0)\n",
    "# pos=(0.4425, 0.2479))"
   ]
  },
  {
   "cell_type": "code",
   "execution_count": null,
   "id": "4a39d711-531f-4b3a-a12e-8022abb7ae9f",
   "metadata": {},
   "outputs": [],
   "source": [
    "fig,ax=plt.subplots(figsize=(10,5))\n",
    "qmap_compare[qmap_compare<=0]=1\n",
    "cax = ax.imshow(qmap_compare,\n",
    "           norm=matplotlib.colors.Normalize(vmin=np.percentile(qmap_compare, 30), vmax=np.percentile(qmap_compare, 99.9)),\n",
    "           # norm=matplotlib.colors.LogNorm(vmin=np.percentile(qmap_compare, 40), vmax=np.percentile(qmap_compare, 99.995)),\n",
    "           extent=(np.min(exp_qxy),np.max(exp_qxy),np.min(exp_qz),np.max(exp_qz)),\n",
    "           cmap='turbo',\n",
    "           origin = 'lower')\n",
    "cbar = fig.colorbar(cax, ax=ax)\n",
    "ax.set_xlabel('$\\mathregular{q_{xy}}$ ($\\AA^{-1}$)',fontsize=16)\n",
    "ax.set_ylabel('$\\mathregular{q_z}$ ($\\AA^{-1}$)',fontsize=16)\n",
    "ax.yaxis.set_major_locator(ticker.MultipleLocator(0.5))\n",
    "ax.xaxis.set_major_locator(ticker.MultipleLocator(0.5))\n",
    "ax.set_ylim(0,2.5)\n",
    "plt.title('Form 1a experiment                           Form 1a simulation')"
   ]
  },
  {
   "cell_type": "code",
   "execution_count": null,
   "id": "cb8745b6-b8c7-4fd9-98f4-79432067736f",
   "metadata": {},
   "outputs": [],
   "source": [
    "plt.savefig('/Users/Thomas2/Library/CloudStorage/OneDrive-UCB-O365/Desktop/Research_Stuff/OPV_GIWAXS/N2200_simulation/faceon_form1a/1ato1a_comparison.png', dpi=300)"
   ]
  }
 ],
 "metadata": {
  "kernelspec": {
   "display_name": "Python 3 (ipykernel)",
   "language": "python",
   "name": "python3"
  },
  "language_info": {
   "codemirror_mode": {
    "name": "ipython",
    "version": 3
   },
   "file_extension": ".py",
   "mimetype": "text/x-python",
   "name": "python",
   "nbconvert_exporter": "python",
   "pygments_lexer": "ipython3",
   "version": "3.10.13"
  }
 },
 "nbformat": 4,
 "nbformat_minor": 5
}

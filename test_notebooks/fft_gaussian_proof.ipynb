{
 "cells": [
  {
   "cell_type": "code",
   "execution_count": null,
   "id": "b4910a0b-4b1e-49c5-bc98-d7ca2a75f2a6",
   "metadata": {},
   "outputs": [],
   "source": [
    "import numpy as np\n",
    "from numpy.fft import fftn, fftshift, ifftn, ifftshift\n",
    "import matplotlib\n",
    "import matplotlib.pyplot as plt\n",
    "from matplotlib.pyplot import subplots"
   ]
  },
  {
   "cell_type": "code",
   "execution_count": null,
   "id": "02f2d7c9-1923-497c-ad25-49fdc90f862a",
   "metadata": {},
   "outputs": [],
   "source": [
    "%matplotlib widget"
   ]
  },
  {
   "cell_type": "code",
   "execution_count": null,
   "id": "0416cef4-f80b-4b18-a319-4f2d1f35ed16",
   "metadata": {},
   "outputs": [],
   "source": [
    "def gaussian_kernel(size, sigma=1):\n",
    "    \"\"\" \n",
    "    Returns a normalized 3D gauss kernel array for convolutions\n",
    "    see https://math.stackexchange.com/questions/434629/3-d-generalization-of-the-gaussian-point-spread-function\n",
    "    \n",
    "    \"\"\"\n",
    "    size = int(size) // 2\n",
    "    x, y, z = np.mgrid[-size:size+1, -size:size+1, -size:size+1]\n",
    "    C = 1/(sigma**3 * (2*np.pi)**(3/2))\n",
    "    g = C*np.exp(-(x**2 + y**2 + z**2) / (2 * sigma**2))\n",
    "    \n",
    "    return g, size\n",
    "\n",
    "def fft_gaussian_kernel(ft_axis, sigma):\n",
    "    sigma *= 1/(2*np.pi)\n",
    "    qx, qy, qz = np.meshgrid(ft_axis, ft_axis, ft_axis)\n",
    "    g_fft = np.exp(-2*np.pi**2*sigma**2 * (qx**2 + qy**2 + qz**2))\n",
    "    \n",
    "    return g_fft"
   ]
  },
  {
   "cell_type": "code",
   "execution_count": null,
   "id": "7af4b35e-6cd3-431d-b312-b29ce14560d2",
   "metadata": {},
   "outputs": [],
   "source": [
    "sigma = 2\n",
    "kernel, size = gaussian_kernel(200, sigma=sigma)\n",
    "axis = np.arange(-size, size+1)\n",
    "ft_kernel = fftn(kernel)\n",
    "ft_kernel_shifted = fftshift(ft_kernel)\n",
    "ft_axis = np.fft.fftfreq(len(axis), d=1) * 2 * np.pi\n",
    "ft_axis = fftshift(ft_axis)\n",
    "ik = np.abs(ft_kernel_shifted)**2\n",
    "\n",
    "#method 2\n",
    "ik2 = np.abs(fft_gaussian_kernel(ft_axis, sigma))**2"
   ]
  },
  {
   "cell_type": "code",
   "execution_count": null,
   "id": "29b77291-e959-4531-aacb-e8e5aea38fbe",
   "metadata": {},
   "outputs": [],
   "source": [
    "kernel_flat = np.sum(kernel, axis=0)\n",
    "fig, (ax1, ax2, ax3) = subplots(1,3, figsize=(12,5))\n",
    "ax1.imshow(kernel_flat, extent=[np.min(axis), np.max(axis), np.min(axis), np.max(axis)])\n",
    "ax1.set_title('realspace method1')\n",
    "ik_flat = np.sum(ik, axis=0)\n",
    "ax2.imshow(ik_flat, extent=[np.min(ft_axis), np.max(ft_axis), np.min(ft_axis), np.max(ft_axis)])\n",
    "ax2.set_title('reciprocal space FFT')\n",
    "ik2_flat = np.sum(ik2, axis=0)\n",
    "ax3.imshow(ik2_flat, extent=[np.min(ft_axis), np.max(ft_axis), np.min(ft_axis), np.max(ft_axis)])\n",
    "ax3.set_title('reciprocal space analytical')"
   ]
  },
  {
   "cell_type": "code",
   "execution_count": null,
   "id": "c7ac859d-cbbd-40f1-b59b-9615a7b385ea",
   "metadata": {},
   "outputs": [],
   "source": [
    "fig, ax1 = subplots(1,1)\n",
    "ax1.plot(ft_axis, ik_flat[size,:], label='FFT')\n",
    "ax1.plot(ft_axis, ik2_flat[size,:], label='Analytical', linestyle = '--')\n",
    "ax1.legend()"
   ]
  }
 ],
 "metadata": {
  "kernelspec": {
   "display_name": "Python 3 (ipykernel)",
   "language": "python",
   "name": "python3"
  },
  "language_info": {
   "codemirror_mode": {
    "name": "ipython",
    "version": 3
   },
   "file_extension": ".py",
   "mimetype": "text/x-python",
   "name": "python",
   "nbconvert_exporter": "python",
   "pygments_lexer": "ipython3",
   "version": "3.10.13"
  }
 },
 "nbformat": 4,
 "nbformat_minor": 5
}
